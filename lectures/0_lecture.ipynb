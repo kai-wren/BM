{
 "cells": [
  {
   "cell_type": "markdown",
   "metadata": {},
   "source": [
    "# Bayesian methods\n",
    "\n",
    "- lecturer: dr. Kamil Dedecius, Czech Academy of Sciences, Institute of Information Theory and Automation\n",
    "- email: dedecius(o)utia.cas.cz\n",
    "- lectures etc. available at: https://github.com/kamil-dedecius/ucu-bm\n",
    "- motto: we are here for principles, not for mathematical rigour\n",
    "- grading:\n",
    "  - tbd\n",
    "  \n",
    "- recommended literature:\n",
    "   - C. Robert: The Bayesian choice\n",
    "   - A. Gelman et al.: Bayesian data analysis\n",
    "   - D. Barber: Bayesian reasoning and machine learning\n",
    "   - and tons of other books\n",
    "---"
   ]
  },
  {
   "cell_type": "markdown",
   "metadata": {},
   "source": [
    "# Examples & Why the Bayesianism?"
   ]
  },
  {
   "cell_type": "markdown",
   "metadata": {},
   "source": [
    "## Target tracking\n",
    "\n",
    "![Trajektorie letícího objektu](img/l0-trajectory.jpg)"
   ]
  },
  {
   "cell_type": "markdown",
   "metadata": {},
   "source": [
    "## Search for various objects...\n",
    "\n",
    "** Like submarines... (USS Scorpion)**\n",
    "![USS Scorpion](img/l0-ussscorpion.jpg)\n",
    "\n",
    "** ...aircrafts (AF447, MH370)... **\n",
    "![AF447](img/l0-af447.jpg)\n",
    "\n",
    "** ...hydrogen bombs... (Palomares B52)**\n",
    "![Palomares](img/l0-palomares.jpg)\n",
    "\n",
    "** ...or radiation leakage.**\n",
    "![Radio](img/l0-map.png)\n",
    "\n",
    "\n",
    "## Stock exchange operations, sports lottery...\n",
    "\n",
    "### ...or just for a fun :-)"
   ]
  }
 ],
 "metadata": {
  "kernelspec": {
   "display_name": "Python 3",
   "language": "python",
   "name": "python3"
  },
  "language_info": {
   "codemirror_mode": {
    "name": "ipython",
    "version": 3
   },
   "file_extension": ".py",
   "mimetype": "text/x-python",
   "name": "python",
   "nbconvert_exporter": "python",
   "pygments_lexer": "ipython3",
   "version": "3.6.5"
  }
 },
 "nbformat": 4,
 "nbformat_minor": 2
}
