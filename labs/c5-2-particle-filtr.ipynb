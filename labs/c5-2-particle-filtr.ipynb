{
 "cells": [
  {
   "cell_type": "code",
   "execution_count": null,
   "metadata": {},
   "outputs": [],
   "source": [
    "import numpy as np\n",
    "from scipy.stats import multivariate_normal as mvn\n",
    "import matplotlib.pylab as plt\n",
    "import sys\n",
    "sys.path.insert(0, '../zdrojaky/kf')\n",
    "from kf import KF\n",
    "from trajectory import trajectory\n",
    "np.set_printoptions(precision=2)"
   ]
  },
  {
   "cell_type": "markdown",
   "metadata": {},
   "source": [
    "# 2D object tracking with particle filter\n",
    "\n",
    "Our task is the filtration of 2D moving object location. We already did this with the Kalman filter, now, we will use the particle filtering methods. \n",
    "\n",
    "Recall, that we have a state vector consisting of locations in axes $x_1$ and $x_2$, and velocities in these axes.\n",
    "\n",
    "$$\n",
    "x_t =\n",
    "\\begin{bmatrix}\n",
    "x_{1,t} \\\\ \n",
    "x_{2,t} \\\\ \n",
    "v_{x_1,t} \\\\ \n",
    "v_{x_2,t}\n",
    "\\end{bmatrix}\n",
    "$$\n",
    "\n",
    "We know that the $x_1$ location is given by\n",
    "\n",
    "$$\n",
    "x_{1,t} = x_{1,t-1} + v_{x_1,t} dt + w_{x_1,t},\n",
    "$$\n",
    "\n",
    "and that the same holds for the second axis. We will assume that the velocity is virtually constant, and its changes are due to the state noise,\n",
    "\n",
    "$$\n",
    "v_{x_1,t} = v_{x_1, t-1} + w_{vx_1, t}.\n",
    "$$\n",
    "\n",
    "Analogy holds for the other axis. We acquire noisy location measurements, the time step is 0.1s.\n",
    "\n",
    "The state-space model is\n",
    "\n",
    "$$\n",
    "\\begin{aligned}\n",
    "x_t &\\sim \\mathcal{N}(Ax_{t-1} + Bu_t, Q),\\\\\n",
    "y_t &\\sim \\mathcal{N}(Hx_{t}, R),\n",
    "\\end{aligned}\n",
    "$$\n",
    "\n",
    "and the covariance matrices are provided below."
   ]
  },
  {
   "cell_type": "markdown",
   "metadata": {},
   "source": [
    "\\begin{align*}\n",
    "    A &=\n",
    "    \\begin{bmatrix}\n",
    "       1 & 0 & dt & 0 \\\\\n",
    "       0 & 1 & 0 & dt \\\\\n",
    "       0 & 0 & 1 &  0 \\\\\n",
    "       0 & 0 & 0 &  1 \n",
    "    \\end{bmatrix},\n",
    "    \\quad\n",
    "    &Q &= q\\cdot\n",
    "    \\begin{bmatrix}\n",
    "        \\frac{dt^3}{3}    & 0                 & \\frac{dt^{2}}{2}  & 0  \\\\\n",
    "        0                 & \\frac{dt^3}{3}    & 0                 & \\frac{dt^{2}}{2} \\\\\n",
    "        \\frac{dt^{2}}{2}  & 0                 & dt                & 0 \\\\\n",
    "        0                 & \\frac{dt^{2}}{2}  & 0                 & dt\n",
    "    \\end{bmatrix}\n",
    "    \\notag \\\\\n",
    "    H &=\n",
    "    \\begin{bmatrix}\n",
    "        1 & 0 &0 & 0 \\\\\n",
    "        0 & 1 &0 & 0\n",
    "    \\end{bmatrix}\n",
    "    \\quad\n",
    "    &R &=\n",
    "    r^{2}\\cdot\n",
    "    \\begin{bmatrix}\n",
    "        1 & 0 \\\\\n",
    "        0 & 1\n",
    "    \\end{bmatrix}\n",
    "\\end{align*}\n",
    "where $dt = 1$, $q = .5$, $r=3$."
   ]
  },
  {
   "cell_type": "markdown",
   "metadata": {},
   "source": [
    "** Task: complete the variables**"
   ]
  },
  {
   "cell_type": "code",
   "execution_count": null,
   "metadata": {},
   "outputs": [],
   "source": [
    "q = .5\n",
    "dt = 1\n",
    "r = 3.\n",
    "A = np.array([[1, 0, dt, 0],\n",
    "              [0, 1, 0, dt],\n",
    "              [0, 0, 1,  0],\n",
    "              [0, 0, 0,  1]])\n",
    "Q = q * np.array([[dt**3/3, 0      , dt**2/2, 0      ],\n",
    "                  [0,       dt**3/3, 0,       dt**2/2],\n",
    "                  [dt**2/2, 0,       dt,      0      ],\n",
    "                  [0,       dt**2/2, 0,       dt     ]])\n",
    "H = np.array([[1., 0, 0, 0],\n",
    "              [0., 1, 0, 0]])\n",
    "R = r**2 * np.eye(2)"
   ]
  },
  {
   "cell_type": "markdown",
   "metadata": {},
   "source": [
    "**Task: let `code` be the day and month of your birth. In the `traj` object you find the trajectory: 100 rows with locations in both axes. Plot it with crosses.**"
   ]
  },
  {
   "cell_type": "code",
   "execution_count": null,
   "metadata": {},
   "outputs": [],
   "source": [
    "code = ***\n",
    "traj = trajectory(code)\n",
    "plt.figure(figsize=(10, 10))\n",
    "plt.plot(traj.Y[0,:], traj.Y[1,:], '+')\n",
    "plt.axis('equal')\n",
    "plt.show()"
   ]
  },
  {
   "cell_type": "markdown",
   "metadata": {},
   "source": [
    "**Task: Define the number of samples and the proposal distribution N(0, 10I). Set and normalize the weights vector.**"
   ]
  },
  {
   "cell_type": "code",
   "execution_count": null,
   "metadata": {},
   "outputs": [],
   "source": [
    "ndat = traj.ndat\n",
    "nsamples = ***\n",
    "proposal_loc = ***\n",
    "proposal_cov = ***\n",
    "\n",
    "samples_x = mvn.rvs(mean=proposal_loc, cov=proposal_cov, size=nsamples)\n",
    "weights = ***\n",
    "\n",
    "print(\"Weigths check: 1 =\", weights.sum())"
   ]
  },
  {
   "cell_type": "markdown",
   "metadata": {},
   "source": [
    "**Task: complete where you see asterisks**"
   ]
  },
  {
   "cell_type": "code",
   "execution_count": null,
   "metadata": {},
   "outputs": [],
   "source": [
    "# Logs\n",
    "log_x = np.zeros((4, ndat))\n",
    "\n",
    "def prediction(samples_x):\n",
    "    samples_x_new = np.zeros_like(samples_x)\n",
    "    for i in range(nsamples):\n",
    "        mean = ***             # Mean of the predicted pdf\n",
    "        samples_x_new[i] = *** # Correctly sample from mvn.rvs()\n",
    "    return samples_x_new\n",
    "\n",
    "def update(yt, samples_x, weights):\n",
    "    for i in range(nsamples):\n",
    "        mean = ***        # Calculate the expected yt given H and samples_x[i]\n",
    "        likelihood = ***  # Determine the pdf value of yt for given mean and covariance R with mvn.pdf()\n",
    "        weights[i] *= likelihood\n",
    "    weights = *** # Normalize weights\n",
    "    return weights\n",
    "\n",
    "def resample(samples_x, weights):\n",
    "    indices = np.random.choice(np.arange(weights.size), replace=***, p=***, size=weights.size)\n",
    "    samples_x_new = samples_x[indices]\n",
    "    weights = *** # Set weights after resampling - think twice! ;)\n",
    "    return [samples_x_new, weights]"
   ]
  },
  {
   "cell_type": "code",
   "execution_count": null,
   "metadata": {},
   "outputs": [],
   "source": [
    "for t, yt in enumerate(traj.Y.T):\n",
    "    print('{0} '.format(t), end='')\n",
    "    \n",
    "    # Resampling\n",
    "    samples_x, weights = resample(samples_x, weights)\n",
    "    \n",
    "    # Prediction\n",
    "    samples_x = prediction(samples_x)\n",
    "\n",
    "    # Update\n",
    "    weights = update(yt, samples_x, weights)\n",
    "    \n",
    "    # Estimate & log\n",
    "    estimate = np.sum(samples_x * weights[:,np.newaxis], axis=0)\n",
    "    log_x[:,t] = estimate"
   ]
  },
  {
   "cell_type": "code",
   "execution_count": null,
   "metadata": {},
   "outputs": [],
   "source": [
    "plt.figure(figsize=(10,10))\n",
    "plt.plot(traj.Y[0,:], traj.Y[1,:], '.', label='Measurements')\n",
    "plt.plot(log_x[0,:], log_x[1,:], '-', color='red', label='Filtered estimate')\n",
    "plt.plot(traj.X[0,:], traj.X[1,:], 'k', label='True trajectory')\n",
    "plt.grid(True)\n",
    "plt.axis('equal')\n",
    "plt.legend()\n",
    "plt.show()"
   ]
  },
  {
   "cell_type": "code",
   "execution_count": null,
   "metadata": {},
   "outputs": [],
   "source": [
    "plt.figure(figsize=(10, 4))\n",
    "plt.subplot(1,2,1)\n",
    "plt.plot(log_x[2,:], 'r')\n",
    "plt.plot(traj.X[2,:], 'k')\n",
    "plt.subplot(1,2,2)\n",
    "plt.plot(log_x[3,:])\n",
    "plt.plot(traj.X[3,:], 'k')\n",
    "plt.show()"
   ]
  }
 ],
 "metadata": {
  "kernelspec": {
   "display_name": "Python 3",
   "language": "python",
   "name": "python3"
  },
  "language_info": {
   "codemirror_mode": {
    "name": "ipython",
    "version": 3
   },
   "file_extension": ".py",
   "mimetype": "text/x-python",
   "name": "python",
   "nbconvert_exporter": "python",
   "pygments_lexer": "ipython3",
   "version": "3.7.2"
  }
 },
 "nbformat": 4,
 "nbformat_minor": 2
}
