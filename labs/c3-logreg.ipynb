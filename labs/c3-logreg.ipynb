{
 "cells": [
  {
   "cell_type": "code",
   "execution_count": null,
   "metadata": {},
   "outputs": [],
   "source": [
    "import numpy as np\n",
    "import matplotlib.pylab as plt\n",
    "from pandas_ml import ConfusionMatrix\n",
    "import sys\n",
    "sys.path.insert(0, '../zdrojaky/logreg')\n",
    "from logreg import LogReg"
   ]
  },
  {
   "cell_type": "markdown",
   "metadata": {},
   "source": [
    "# Logistic regression\n",
    "\n",
    "The example considers the Skin-NonSkin dataset of Bhatt and Dhall. It consists of 245,057 samples of which 50,859 are skin samples and 194,198 are non-skin samples. The dataset was collected by randomly sampling RGB values from face images of various age groups (young, middle, and old), race groups (white, black, and Asian), and gender. The samples were obtained from the FERET and PAL databases. Each data item consists of four variables -- B, G, R and the class label.\n",
    "\n",
    "Three randomly chosen rows:\n",
    "\n",
    "    ---\n",
    "    B, G, R, Class\n",
    "    242, 169, 161,   2\n",
    "    218, 211, 202,   2\n",
    "    110, 150, 209,   1\n",
    "    ---\n",
    "    \n",
    "**We will use the regressor $x_t = [1, B_t, G_t, R_t]$, normal prior $\\mathcal{N}$(**_0_**, 100**_I_**) and the threshold _m_=0.5.**"
   ]
  },
  {
   "cell_type": "markdown",
   "metadata": {},
   "source": [
    "First, we load data. As they are ordered, we need to shuffle them."
   ]
  },
  {
   "cell_type": "code",
   "execution_count": null,
   "metadata": {},
   "outputs": [],
   "source": [
    "np.random.seed(1234)\n",
    "ndat = 5000\n",
    "\n",
    "fn = 'Skin_NonSkin.txt'\n",
    "data = np.loadtxt(fn)"
   ]
  },
  {
   "cell_type": "markdown",
   "metadata": {},
   "source": [
    "**Task 1: The data is ordered. Shuffle it randomly (np.random.---)**"
   ]
  },
  {
   "cell_type": "code",
   "execution_count": null,
   "metadata": {},
   "outputs": [],
   "source": [
    "#################################\n",
    "# HERE COMES YOUR SHUFFLING CODE\n",
    "#\n",
    "#################################\n",
    "data = data[:ndat]\n",
    "\n",
    "print(\"First three rows:\")\n",
    "print(data[:3])"
   ]
  },
  {
   "cell_type": "markdown",
   "metadata": {},
   "source": [
    "Note the classes are 1 a 2 (Skin a NonSkin). \n",
    "\n",
    "\n",
    "**Task 2: Modify the classes to be 0 and 1.**\n",
    "\n",
    "\n",
    "**Task 3: Prepare regressors (X) and measurements (y).**"
   ]
  },
  {
   "cell_type": "code",
   "execution_count": null,
   "metadata": {},
   "outputs": [],
   "source": [
    "###################################\n",
    "# HERE COMES YOUR CODE\n",
    "#\n",
    "X = ***\n",
    "y = ***\n",
    "###################################\n",
    "\n",
    "\n",
    "print(\"First three regressors:\\n\", X[:3])\n",
    "print(\"\\nFirst three measurements:\\n\", y[:3])"
   ]
  },
  {
   "cell_type": "markdown",
   "metadata": {},
   "source": [
    "**Task 4: Set the prior. It is normal, its mean is a zero vector and the covariance Sigma is an diagonal matrix with 100s on the diagonal.***"
   ]
  },
  {
   "cell_type": "code",
   "execution_count": null,
   "metadata": {},
   "outputs": [],
   "source": [
    "###################################\n",
    "# HERE COMES YOUR CODE\n",
    "mean = ***\n",
    "Sigma = ***\n",
    "###################################\n",
    "\n",
    "prior = LogReg(mean=mean, Sigma=Sigma)"
   ]
  },
  {
   "cell_type": "markdown",
   "metadata": {},
   "source": [
    "Estimation: we update by one regressor and one measurements sequentially (Skin-NonSkin)"
   ]
  },
  {
   "cell_type": "code",
   "execution_count": null,
   "metadata": {},
   "outputs": [],
   "source": [
    "#%% Estimation\n",
    "for xt, yt in zip(X, y):\n",
    "    prior.update(yt, xt)\n",
    "    prior.log()"
   ]
  },
  {
   "cell_type": "markdown",
   "metadata": {},
   "source": [
    "Let us see the Brier score evolution."
   ]
  },
  {
   "cell_type": "code",
   "execution_count": null,
   "metadata": {},
   "outputs": [],
   "source": [
    "plt.figure(figsize=(8, 4))\n",
    "plt.plot(prior.brier_score_log)\n",
    "plt.xlabel('t')\n",
    "plt.ylabel('Brier score')"
   ]
  },
  {
   "cell_type": "markdown",
   "metadata": {},
   "source": [
    "Finally, we calculate the confusion matrix."
   ]
  },
  {
   "cell_type": "code",
   "execution_count": null,
   "metadata": {},
   "outputs": [],
   "source": [
    "#%% Confusion matrix\n",
    "CM = ConfusionMatrix(prior.true_vals, prior.binary_preds)\n",
    "CM.print_stats()"
   ]
  },
  {
   "cell_type": "code",
   "execution_count": null,
   "metadata": {},
   "outputs": [],
   "source": []
  }
 ],
 "metadata": {
  "kernelspec": {
   "display_name": "Python 3",
   "language": "python",
   "name": "python3"
  },
  "language_info": {
   "codemirror_mode": {
    "name": "ipython",
    "version": 3
   },
   "file_extension": ".py",
   "mimetype": "text/x-python",
   "name": "python",
   "nbconvert_exporter": "python",
   "pygments_lexer": "ipython3",
   "version": "3.6.5"
  }
 },
 "nbformat": 4,
 "nbformat_minor": 2
}
