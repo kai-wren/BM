{
 "cells": [
  {
   "cell_type": "code",
   "execution_count": null,
   "metadata": {},
   "outputs": [],
   "source": [
    "import numpy as np\n",
    "import scipy.stats as ss\n",
    "import matplotlib.pylab as plt"
   ]
  },
  {
   "cell_type": "markdown",
   "metadata": {},
   "source": [
    "# Rejection sampling\n",
    "\n",
    "### Algorithm\n",
    "Assume $\\int_a^b f(x)dx = 1$ and choose $m > f(x)$ for all $x\\in[a,b]$. Simulate $(x', u) \\sim \\mathcal{U}(0<u<m)$ as follows:\n",
    "   1. Simulate $x' \\sim \\mathcal{U}(a, b)$,\n",
    "   2. Simulate $u|x=x' \\sim \\mathcal{U}(0, m)$,\n",
    "   3. Accept the sample if $0<u<f(x')$."
   ]
  },
  {
   "cell_type": "markdown",
   "metadata": {},
   "source": [
    "## Example\n",
    "\n",
    "In the toy example let us simulate `nsamples` samples from the beta distribution `ss.beta` with parameters `a` and `b`. We stick with the basic rejection sampling, interested students can try rejection sampling with another - preferably more suitable - proposal."
   ]
  },
  {
   "cell_type": "markdown",
   "metadata": {},
   "source": [
    "**Task: try several combinations of M and nsamples**"
   ]
  },
  {
   "cell_type": "code",
   "execution_count": null,
   "metadata": {},
   "outputs": [],
   "source": [
    "nsamples = ***     ### Number of samples\n",
    "M = ***            ### M\n",
    "\n",
    "a = 2\n",
    "b = 2\n",
    "\n",
    "samples_x = np.random.uniform(0, 1, size=nsamples)             # proposal samples\n",
    "samples_u = np.random.uniform(low=0., high=M, size=nsamples)   # uniform samples\n",
    "fx = ss.beta.pdf(samples_x, a=a, b=b)                          # value of f(x)\n",
    "accepted = np.where(samples_u < fx)[0]"
   ]
  },
  {
   "cell_type": "code",
   "execution_count": null,
   "metadata": {},
   "outputs": [],
   "source": [
    "print(\"% acceptance: {0:.4f} ({1} of {2})\".format(accepted.size/nsamples, accepted.size, nsamples))\n",
    "plt.figure(figsize=(13, 4))\n",
    "plt.subplot(121)\n",
    "plt.hist(samples_x[accepted], bins=30)\n",
    "plt.subplot(122)\n",
    "x = np.linspace(.01, .99, 100)\n",
    "plt.plot(x, ss.beta.pdf(x, a=a, b=b), label='f(x)')\n",
    "plt.hlines(M, x.min(), x.max(), label='M')\n",
    "plt.plot(samples_x, samples_u, 'r+')\n",
    "plt.plot(samples_x[accepted], samples_u[accepted], 'g+', label='accepted')\n",
    "plt.xlim(0, 1)\n",
    "plt.legend()\n",
    "plt.show()"
   ]
  },
  {
   "cell_type": "markdown",
   "metadata": {},
   "source": [
    "***Task: Calculate mean and variance and compare to the true values***"
   ]
  },
  {
   "cell_type": "code",
   "execution_count": null,
   "metadata": {},
   "outputs": [],
   "source": [
    "print('True mean and variance: [{0:.2f}\\t{1:.2f}]'.format(ss.beta.mean(a=a, b=b), ss.beta.var(a=a, b=b)))\n",
    "montecarlo_mean = ***\n",
    "montecarlo_variance = ***\n",
    "print('Their estimates: [{0:.2f}\\t{1:.2f}]'.format(montecarlo_mean, montecarlo_variance))"
   ]
  }
 ],
 "metadata": {
  "kernelspec": {
   "display_name": "Python 3",
   "language": "python",
   "name": "python3"
  },
  "language_info": {
   "codemirror_mode": {
    "name": "ipython",
    "version": 3
   },
   "file_extension": ".py",
   "mimetype": "text/x-python",
   "name": "python",
   "nbconvert_exporter": "python",
   "pygments_lexer": "ipython3",
   "version": "3.6.5"
  }
 },
 "nbformat": 4,
 "nbformat_minor": 2
}
