{
 "cells": [
  {
   "cell_type": "code",
   "execution_count": null,
   "metadata": {},
   "outputs": [],
   "source": [
    "import numpy as np\n",
    "import matplotlib.pylab as plt\n",
    "import sys\n",
    "sys.path.insert(0, '../zdrojaky/kf')\n",
    "from kf import KF\n",
    "from trajectory import trajectory\n",
    "np.set_printoptions(precision=2)"
   ]
  },
  {
   "cell_type": "markdown",
   "metadata": {},
   "source": [
    "# 2D object tracking\n",
    "\n",
    "Our goal is the filtration of the 2D location of a moving object. We will sequentially estimate its state vector consisting of locations in the two planar coordinates  $x_1$ a $x_2$ and related velocities.\n",
    "\n",
    "$$\n",
    "x_t =\n",
    "\\begin{bmatrix}\n",
    "x_{1,t} \\\\ \n",
    "x_{2,t} \\\\ \n",
    "v_{x_1,t} \\\\ \n",
    "v_{x_2,t}\n",
    "\\end{bmatrix}\n",
    "$$\n",
    "\n",
    "We know that for the first coordinate it holds\n",
    "\n",
    "$$\n",
    "x_{1,t} = x_{1,t-1} + v_{x_1,t} dt + w_{x_1,t},\n",
    "$$\n",
    "\n",
    "and analogously for the other coordinate. In order to simplify the model, we will assume that the velocity is virtually constant and its changes are due to the state noise,\n",
    "\n",
    "$$\n",
    "v_{x_1,t} = v_{x_1, t-1} + w_{vx_1, t}.\n",
    "$$\n",
    "\n",
    "Analogously for the other velocity vector. Now, we have only noisy measurements of position with obtained each 0.1s.\n",
    "\n",
    "First, we construct the state-space model\n",
    "\n",
    "$$\n",
    "\\begin{aligned}\n",
    "x_t &\\sim \\mathcal{N}(Ax_{t-1} + Bu_t, Q),\\\\\n",
    "y_t &\\sim \\mathcal{N}(Hx_{t}, R).\n",
    "\\end{aligned}\n",
    "$$\n",
    "\n",
    "**Task 1: Construct the models and determine the matrices**\n",
    "\n",
    "Obtaining the covariance matrices is a tedious task. We assume that we know them:"
   ]
  },
  {
   "cell_type": "markdown",
   "metadata": {},
   "source": [
    "\\begin{align*}\n",
    "    A &=?\n",
    "%    \\begin{bmatrix}\n",
    "%       1 & 0 & dt & 0 \\\\\n",
    "%       0 & 1 & 0 & dt \\\\\n",
    "%       0 & 0 & 1 &  0 \\\\\n",
    "%       0 & 0 & 0 &  1 \n",
    "%    \\end{bmatrix},\n",
    "    \\quad\n",
    "    &Q &= q\\cdot\n",
    "    \\begin{bmatrix}\n",
    "        \\frac{dt^3}{3}    & 0                 & \\frac{dt^{2}}{2}  & 0  \\\\\n",
    "        0                 & \\frac{dt^3}{3}    & 0                 & \\frac{dt^{2}}{2} \\\\\n",
    "        \\frac{dt^{2}}{2}  & 0                 & dt                & 0 \\\\\n",
    "        0                 & \\frac{dt^{2}}{2}  & 0                 & dt\n",
    "    \\end{bmatrix}\n",
    "    \\notag \\\\\n",
    "    H &=?\n",
    "%    \\begin{bmatrix}\n",
    "%        1 & 0 &0 & 0 \\\\\n",
    "%        0 & 1 &0 & 0\n",
    "%    \\end{bmatrix}\n",
    "    \\quad\n",
    "    &R &=\n",
    "    r^{2}\\cdot\n",
    "    \\begin{bmatrix}\n",
    "        1 & 0 \\\\\n",
    "        0 & 1\n",
    "    \\end{bmatrix}\n",
    "\\end{align*}\n",
    "where $dt = 1$, $q = .5$, $r=3$."
   ]
  },
  {
   "cell_type": "markdown",
   "metadata": {},
   "source": [
    "**Task 2: Define variables**"
   ]
  },
  {
   "cell_type": "code",
   "execution_count": null,
   "metadata": {},
   "outputs": [],
   "source": [
    "q = ***\n",
    "dt = ***\n",
    "r = ***\n",
    "A = ***\n",
    "Q = ***\n",
    "H = ***\n",
    "R = ***"
   ]
  },
  {
   "cell_type": "markdown",
   "metadata": {},
   "source": [
    "**Task 3: substitute the day and month of your birth for `code`. The `traj` object will contain the trajectory (100 measurements row-wise). Plot it with crosses.**"
   ]
  },
  {
   "cell_type": "code",
   "execution_count": null,
   "metadata": {},
   "outputs": [],
   "source": [
    "code = ***\n",
    "traj = trajectory(code)\n",
    "plt.figure(figsize=(10, 10))\n",
    "plt.plot(traj.Y[0,:], traj.Y[1,:], '+')\n",
    "plt.axis('equal')\n",
    "plt.show()"
   ]
  },
  {
   "cell_type": "markdown",
   "metadata": {},
   "source": [
    "KF is the class of the Kalman filter. We simply \"feed\" it by rows in `traj.Y.T`"
   ]
  },
  {
   "cell_type": "code",
   "execution_count": null,
   "metadata": {},
   "outputs": [],
   "source": [
    "kf = KF(A=A, B=None, H=H, R=R, Q=Q)\n",
    "for yt in traj.Y.T:\n",
    "    kf.predict()\n",
    "    kf.update(yt)\n",
    "    kf.log()\n",
    "\n",
    "log_x = np.array(kf.log_x).T      # Here are the estimates"
   ]
  },
  {
   "cell_type": "markdown",
   "metadata": {},
   "source": [
    "**Task 4: `log_x` has 4 rows, each of them cointains $x_{t}$. Plot the measurements and the estimated trajectory.**"
   ]
  },
  {
   "cell_type": "code",
   "execution_count": null,
   "metadata": {},
   "outputs": [],
   "source": [
    "plt.figure(figsize=(10,10))\n",
    "#################################\n",
    "# YOUR CODE COMES HERE\n",
    "#\n",
    "#################################\n",
    "plt.grid(True)\n",
    "plt.axis('equal')\n",
    "plt.legend()\n",
    "plt.show()"
   ]
  },
  {
   "cell_type": "markdown",
   "metadata": {},
   "source": [
    "**Task 5: The estimates contain speed evolution too. Plot it as 2 subplots side-by-side.**"
   ]
  },
  {
   "cell_type": "code",
   "execution_count": null,
   "metadata": {},
   "outputs": [],
   "source": [
    "plt.figure(figsize=(10, 4))\n",
    "#################################\n",
    "# YOUR CODE COMES HERE\n",
    "#\n",
    "plt.subplot(***)\n",
    "#################################\n",
    "plt.show()"
   ]
  },
  {
   "cell_type": "markdown",
   "metadata": {},
   "source": [
    "**Task 6: `traj` has an x-attribute, `traj.X`, which is a matrix of 4 rows containing true values of location and velocity. Add them to the plots in black color.**"
   ]
  }
 ],
 "metadata": {
  "kernelspec": {
   "display_name": "Python 3",
   "language": "python",
   "name": "python3"
  },
  "language_info": {
   "codemirror_mode": {
    "name": "ipython",
    "version": 3
   },
   "file_extension": ".py",
   "mimetype": "text/x-python",
   "name": "python",
   "nbconvert_exporter": "python",
   "pygments_lexer": "ipython3",
   "version": "3.7.2rc1"
  }
 },
 "nbformat": 4,
 "nbformat_minor": 2
}
