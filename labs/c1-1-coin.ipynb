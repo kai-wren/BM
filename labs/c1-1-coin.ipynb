{
 "cells": [
  {
   "cell_type": "markdown",
   "metadata": {},
   "source": [
    "# Coin - estimation of probability\n",
    "\n",
    "Let us denote:\n",
    "- $n \\in \\mathbb{N}_0$ number of coin flips\n",
    "- $X=k \\in \\{0,\\ldots, n\\}$ number of heads\n",
    "- $\\pi \\in [0, 1]$ probability of head\n",
    "\n",
    "We shall use the binomial model\n",
    "$$\n",
    "X=k|\\pi, n \\sim \\text{binom}(n,\\pi) \\qquad\\text{with probability} \\qquad\n",
    "f(X=k|\\pi, n) = \\binom{n}{k}\\pi^k (1-\\pi)^{n-k}.\n",
    "$$\n",
    "\n",
    "As the prior distribution for $\\pi$ we choose the beta distribution,\n",
    "$$\n",
    "\\pi \\sim \\beta(a_0, b_0) \\qquad \\text{with density} \\qquad\n",
    "p(\\pi|a_0, b_0) = \\frac{1}{B(a_0, b_0)} \\pi^{a_0-1} (1-\\pi)^{b_0-1}. \n",
    "$$"
   ]
  },
  {
   "cell_type": "markdown",
   "metadata": {},
   "source": [
    "### Task 1 (theory)\n",
    "Using the Bayes' theorem, derive the posterior distribution (and posterior hyperparameters). Recall that\n",
    "$$\n",
    "\\begin{aligned}\n",
    "p(\\pi|a_1, b_1) \n",
    "&\\propto p(\\pi|a_0, b_0, n, X=k) \\\\\n",
    "&\\propto f(X=k|\\pi, n) p(\\pi|a_0, b_0),\n",
    "\\end{aligned}\n",
    "$$\n",
    "and that the normalization constants may be ignored."
   ]
  },
  {
   "cell_type": "markdown",
   "metadata": {},
   "source": [
    "### Task 2 (coding)\n",
    "Given $n, a_0, b_0$ and data $x$. Write the code of the Bayesian update of the prior hyperparameters $a_0, b_0$ to $a_1, b_1$."
   ]
  },
  {
   "cell_type": "code",
   "execution_count": null,
   "metadata": {},
   "outputs": [],
   "source": [
    "import numpy as np\n",
    "from scipy.stats import beta, binom\n",
    "np.random.seed(123)\n",
    "pi = 0.4                             # We will estimate this number\n",
    "\n",
    "n = 100                              ### number of flips\n",
    "a0 = 1                               ### prior hyperparameter a0\n",
    "b0 = 1                               ### prior hyperparameter b0\n",
    "\n",
    "x = binom.rvs(n=n, p=pi)\n",
    "print('Number of flips: {0}, number of heads: X={1}'.format(n, x))\n",
    "print('Prior: beta({0:.1f}, {1:.1f})'.format(a0, b0))\n",
    "\n",
    "#---------------------------------------------\n",
    "# Your code comes here\n",
    "# \n",
    "# Calculate the posterior hyperparameters a1, b1\n",
    "#---------------------------------------------\n",
    "\n",
    "print('Posterior: beta({0:.1f}, {1:.1f})'.format(a1, b1))"
   ]
  },
  {
   "cell_type": "markdown",
   "metadata": {},
   "source": [
    "## Estimation of $\\pi$\n",
    "From the lecture we know that $\\beta(a, b)$ has the mean and variance\n",
    "$$\n",
    "\\mathbb{E}[\\pi] = \\mathbb{E}[\\pi|a,b] = \\frac{a}{a+b},\n",
    "\\qquad\\text{a}\\qquad\n",
    "\\text{var}\\pi = \\frac{a b}{(a + b)^2(a+b+1)}.\n",
    "$$\n",
    "\n",
    "### Task 3 (coding)\n",
    "Write a code for estimation of $\\pi$ as the mean value of the distribution. Calculate the variance."
   ]
  },
  {
   "cell_type": "code",
   "execution_count": null,
   "metadata": {},
   "outputs": [],
   "source": [
    "#---------------------------------------------\n",
    "# Your code\n",
    "e_pi = ***\n",
    "var_pi = ***\n",
    "#---------------------------------------------\n",
    "\n",
    "print('Posterior estimate: E[pi] = {0:.2f}, with var(pi) = {1:.2f}'.format(e_pi, var_pi))"
   ]
  },
  {
   "cell_type": "markdown",
   "metadata": {},
   "source": [
    "### Task 4 (code)\n",
    "\n",
    "Below you obtain a plot of the prior density. Add the plot of the posterior density."
   ]
  },
  {
   "cell_type": "code",
   "execution_count": null,
   "metadata": {},
   "outputs": [],
   "source": [
    "import matplotlib.pylab as plt\n",
    "\n",
    "x_vals = np.linspace(start=1e-5, stop=1, num=100)    # points on x-axis\n",
    "y_vals_prior = beta.pdf(x_vals, a=a0, b=b0)          # values of prior pdf\n",
    "plt.plot(x_vals, y_vals_prior, color='blue')\n",
    "plt.xlabel('pi')\n",
    "\n",
    "#---------------------------------------------\n",
    "# Your code comes here\n",
    "# - plot the posterior density in red\n",
    "# - add labels (plt.xlabel, plt.ylabel)\n",
    "# - insert a vertical line in the mean value e_pi from 0 to the density function (plt.vlines)\n",
    "#---------------------------------------------\n",
    "\n",
    "plt.show()"
   ]
  },
  {
   "cell_type": "markdown",
   "metadata": {},
   "source": [
    "### Task 5 (code)\n",
    "Try to plot several pdfs that depicts sequential Bayesian update with a bunch of several observations.\n",
    "![Beta distribution update](l1-beta-mince.jpg)"
   ]
  }
 ],
 "metadata": {
  "kernelspec": {
   "display_name": "Python 3",
   "language": "python",
   "name": "python3"
  },
  "language_info": {
   "codemirror_mode": {
    "name": "ipython",
    "version": 3
   },
   "file_extension": ".py",
   "mimetype": "text/x-python",
   "name": "python",
   "nbconvert_exporter": "python",
   "pygments_lexer": "ipython3",
   "version": "3.7.2rc1"
  }
 },
 "nbformat": 4,
 "nbformat_minor": 2
}
